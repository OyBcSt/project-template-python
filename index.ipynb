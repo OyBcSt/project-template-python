{
 "cells": [
  {
   "cell_type": "code",
   "execution_count": null,
   "id": "b5a0831f",
   "metadata": {},
   "outputs": [],
   "source": [
    "import pandas as pd\n",
    "station_file = \"CastFile_0322-OB20220317.csv\"\n",
    "station_data = pd.read_csv(station_file)\n",
    "locations = station_data[['Lat', 'Lon']]\n",
    "locationlist = locations.values.tolist()\n",
    "import branca\n",
    "import branca.colormap as cm\n",
    "colormap = cm.LinearColormap(colors=['darkred','red','orange','yellow','green','darkblue','purple'], index=[1,2,3,4,5,6,20],vmin=1,vmax=20)\n",
    "import folium\n",
    "m = folium.Map(location=[30.50355, -87.98733], zoom_start=9)\n",
    "for point in range(0, len(locationlist)):\n",
    "    folium.Marker(locationlist[point], popup=station_data['Station'][point] + \"\\n\" + station_data['Date'][point] + \"\\n\" + station_data['Time'][point],icon=folium.Icon(color=\"white\",icon_color=colormap(station_data['Depth (m)'][point]), icon='tint', angle=0, prefix='fa')).add_to(m)\n",
    "#ogr2ogr -t_srs EPSG:4326 -f GeoJSON subs1.json subs1.shp\n",
    "#https://shallowsky.com/blog/mapping/folium-with-shapefiles.html\n",
    "folium.GeoJson(\"subs1.json\").add_to(m)\n",
    "folium.LayerControl().add_to(m)\n",
    "m.add_child(colormap)"
   ]
  }
 ],
 "metadata": {
  "kernelspec": {
   "display_name": "Python 3 (ipykernel)",
   "language": "python",
   "name": "python3"
  },
  "language_info": {
   "codemirror_mode": {
    "name": "ipython",
    "version": 3
   },
   "file_extension": ".py",
   "mimetype": "text/x-python",
   "name": "python",
   "nbconvert_exporter": "python",
   "pygments_lexer": "ipython3",
   "version": "3.10.4"
  }
 },
 "nbformat": 4,
 "nbformat_minor": 5
}
