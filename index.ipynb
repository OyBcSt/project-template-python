{
 "cells": [
  {
   "cell_type": "markdown",
   "id": "f5349469-3a2a-41d6-b7d8-6137b2ebf9d1",
   "metadata": {},
   "source": [
    "# Title of Project - For NOAA RESTORE\n",
    "\n",
    "Summary of the work described in the notebok, and how it fits into the NOAA RESTORE project.\n",
    "\n",
    "Team:\n",
    "- names\n",
    "- affiliations"
   ]
  },
  {
   "cell_type": "code",
   "execution_count": null,
   "id": "aadc7844-07cb-482e-9c00-5bdcf45d4cdc",
   "metadata": {},
   "outputs": [],
   "source": [
    "#import libraries\n",
    "import pandas as pd\n",
    "import matplotlib.pyplot as plt\n",
    "import folium"
   ]
  },
  {
   "cell_type": "markdown",
   "id": "00bf725a-e44b-42a3-8a5a-0463ef923566",
   "metadata": {},
   "source": [
    "## Station Data\n",
    "\n",
    "Read station coordinates\n",
    "\n",
    "Upload a small CSV file that contains, at minimum,\n",
    "- `Station`\n",
    "- `Lat`\n",
    "- `Lon`\n",
    "\n",
    "Or just use ours."
   ]
  },
  {
   "cell_type": "code",
   "execution_count": null,
   "id": "b5a0831f",
   "metadata": {},
   "outputs": [],
   "source": [
    "#Read a CSV file that has 'Station', 'Lat', 'Lon'\n",
    "station_file = \"stations/mb_stations.csv\"\n",
    "station_data = pd.read_csv(station_file)\n",
    "#Define an array of locations\n",
    "locations = station_data[['Lat', 'Lon']]\n",
    "locationlist = locations.values.tolist()"
   ]
  },
  {
   "cell_type": "markdown",
   "id": "2378af56-4627-4565-a064-00b79b7bbb58",
   "metadata": {},
   "source": [
    "## Map of our Study Area\n",
    "Define the bounding box for your study area"
   ]
  },
  {
   "cell_type": "code",
   "execution_count": null,
   "id": "bbdaac39-da18-4dd1-9616-e0624acda788",
   "metadata": {},
   "outputs": [],
   "source": [
    "## Define bounding box\n",
    "latmin = 30.10\n",
    "latmax = 30.96\n",
    "lonmin = -88.75\n",
    "lonmax = -87.4\n",
    "## Tooltip for box\n",
    "area_name = \"Mobile Bay\""
   ]
  },
  {
   "cell_type": "code",
   "execution_count": null,
   "id": "d28e5c0d-7dd3-40ba-9426-dc3ac578c7e6",
   "metadata": {},
   "outputs": [],
   "source": [
    "# Mobile Bay\n",
    "#Define the base map\n",
    "m = folium.Map(location=[30.50355, -87.98733], zoom_start=9)\n",
    "#For each station location, draw a popup, add to base map\n",
    "for point in range(0, len(locationlist)):\n",
    "    folium.Marker(locationlist[point], popup=station_data['Station'][point]).add_to(m)\n",
    "#Add a rectagle to the basemap\n",
    "folium.Rectangle(bounds=[(latmin, lonmin ), (latmax, lonmax )],\n",
    "                    fill=False,\n",
    "                    color='blue',\n",
    "                    tooltip=area_name\n",
    "                   ).add_to(m)\n",
    "#Draw the map\n",
    "m"
   ]
  },
  {
   "cell_type": "markdown",
   "id": "fd6df3f8-5fb0-46aa-b768-d9efa2c57100",
   "metadata": {},
   "source": [
    "## Download and plot station data\n",
    "Later, we'll download these from databases, but for the demo, we put a small, sample demo file in GitHub.\n",
    "\n",
    "(For the bigger analysis, we avoid putting data in GitHub...too big and not what git is meant for.)"
   ]
  },
  {
   "cell_type": "code",
   "execution_count": null,
   "id": "e97fb875-9c08-41e5-b72c-a01675039bf4",
   "metadata": {},
   "outputs": [],
   "source": [
    "#Choose the file\n",
    "data_file = \"data/MB6H.csv\"\n",
    "#Read the data\n",
    "df = pd.read_csv(data_file)\n",
    "#Clean up the date\n",
    "df['Date'] = pd.to_datetime(df['Date'])\n",
    "#Make a Time variable\n",
    "T = df['Date']\n",
    "#Take a look\n",
    "df.head()"
   ]
  },
  {
   "cell_type": "markdown",
   "id": "60d0335b-c2dd-412d-830f-a31a22a1fcc3",
   "metadata": {},
   "source": [
    "### The following plots model data of temperature and salinity at sea surface and bottom."
   ]
  },
  {
   "cell_type": "code",
   "execution_count": null,
   "id": "ec5ab27b-2994-4eb0-a3fe-78da7f100d65",
   "metadata": {},
   "outputs": [],
   "source": [
    "#Start the bounding box of the figure\n",
    "fig, ax = plt.subplots(figsize=(20, 5))\n",
    "#Add plots\n",
    "ax.plot(T,df['Tsurf'],color=\"darkred\",label=\"Surface Temperature\")\n",
    "ax.plot(T,df['Tbot'],color=\"black\",label=\"Bottom Temperature\")\n",
    "#Add the legend\n",
    "ax.legend(loc='upper left')"
   ]
  },
  {
   "cell_type": "code",
   "execution_count": null,
   "id": "089caae8-799f-44ee-8578-e7d946d147fe",
   "metadata": {},
   "outputs": [],
   "source": [
    "#Start the bounding box of the figure\n",
    "fig, ax = plt.subplots(figsize=(20, 5))\n",
    "#Add plots\n",
    "ax.plot(T,df['Ssurf'],color=\"darkred\",label=\"Surface Salinity\")\n",
    "ax.plot(T,df['Sbot'],color=\"black\",label=\"Bottom Salinity\")\n",
    "#Add the legend\n",
    "ax.legend(loc='upper left')"
   ]
  }
 ],
 "metadata": {
  "kernelspec": {
   "display_name": "Python 3 (ipykernel)",
   "language": "python",
   "name": "python3"
  },
  "language_info": {
   "codemirror_mode": {
    "name": "ipython",
    "version": 3
   },
   "file_extension": ".py",
   "mimetype": "text/x-python",
   "name": "python",
   "nbconvert_exporter": "python",
   "pygments_lexer": "ipython3",
   "version": "3.10.9"
  }
 },
 "nbformat": 4,
 "nbformat_minor": 5
}
